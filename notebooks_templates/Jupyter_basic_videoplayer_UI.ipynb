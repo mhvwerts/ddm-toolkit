{
 "cells": [
  {
   "cell_type": "code",
   "execution_count": 1,
   "id": "4e8b7b09-f63d-452a-9d0f-9031a09cb169",
   "metadata": {},
   "outputs": [],
   "source": [
    "import sys\n",
    "sys.path.insert(1, '../')"
   ]
  },
  {
   "cell_type": "markdown",
   "id": "9bf3bf09-4d00-4e45-9c76-d5b8ec49dcce",
   "metadata": {},
   "source": [
    "# New interactive videoplayer (basic prototype) using ipywidgets"
   ]
  },
  {
   "cell_type": "code",
   "execution_count": 2,
   "id": "2772ebdb-8537-4a71-ab8c-49999a3dc284",
   "metadata": {},
   "outputs": [
    {
     "name": "stdout",
     "output_type": "stream",
     "text": [
      "Running inside a Notebook (Jupyter or otherwise)...\n"
     ]
    }
   ],
   "source": [
    "from ddm_toolkit.framestreamers import FrameStreamerBasic\n",
    "from ddm_toolkit.notebook_utils import VideoPlayerUI"
   ]
  },
  {
   "cell_type": "code",
   "execution_count": 3,
   "id": "7cbd4504-3335-46bd-9b29-16aef21a5d26",
   "metadata": {},
   "outputs": [],
   "source": [
    "framestrm = FrameStreamerBasic((512,512))\n",
    "videoplay = VideoPlayerUI(framestrm)"
   ]
  },
  {
   "cell_type": "code",
   "execution_count": 4,
   "id": "275d5124-bfc5-4c67-a247-eb2c1efbbfed",
   "metadata": {},
   "outputs": [
    {
     "data": {
      "application/vnd.jupyter.widget-view+json": {
       "model_id": "d4f5412cb1a845d6856a859902c85ea6",
       "version_major": 2,
       "version_minor": 0
      },
      "text/plain": [
       "HBox(children=(Image(value=b'\\x89PNG\\r\\n\\x1a\\n\\x00\\x00\\x00\\rIHDR\\x00\\x00\\x02\\x00\\x00\\x00\\x02\\x00\\x08\\x00\\x00\\x…"
      ]
     },
     "metadata": {},
     "output_type": "display_data"
    }
   ],
   "source": [
    "videoplay.showUIbox()"
   ]
  },
  {
   "cell_type": "code",
   "execution_count": null,
   "id": "660f4ee8-1fa6-478f-b893-97f633002f2e",
   "metadata": {},
   "outputs": [],
   "source": []
  }
 ],
 "metadata": {
  "kernelspec": {
   "display_name": "Python 3 (ipykernel)",
   "language": "python",
   "name": "python3"
  },
  "language_info": {
   "codemirror_mode": {
    "name": "ipython",
    "version": 3
   },
   "file_extension": ".py",
   "mimetype": "text/x-python",
   "name": "python",
   "nbconvert_exporter": "python",
   "pygments_lexer": "ipython3",
   "version": "3.12.8"
  }
 },
 "nbformat": 4,
 "nbformat_minor": 5
}
