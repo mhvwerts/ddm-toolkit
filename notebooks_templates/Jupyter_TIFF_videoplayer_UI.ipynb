{
 "cells": [
  {
   "cell_type": "code",
   "execution_count": 1,
   "id": "4e8b7b09-f63d-452a-9d0f-9031a09cb169",
   "metadata": {},
   "outputs": [],
   "source": [
    "import sys\n",
    "sys.path.insert(1, '../')"
   ]
  },
  {
   "cell_type": "markdown",
   "id": "6b945ee4-75ce-4551-9bd2-a7d81cbfcd27",
   "metadata": {
    "tags": []
   },
   "source": [
    "# New interactive TIFF videoplayer using ipywidgets"
   ]
  },
  {
   "cell_type": "code",
   "execution_count": 2,
   "id": "ab720721-f6b1-4ce5-a1ec-b9fb71125e9a",
   "metadata": {},
   "outputs": [
    {
     "name": "stdout",
     "output_type": "stream",
     "text": [
      "Running inside a Notebook (Jupyter or otherwise)...\n"
     ]
    }
   ],
   "source": [
    "from ddm_toolkit.framestreamers import FrameStreamerTIFF\n",
    "from ddm_toolkit.notebook_utils import VideoPlayerUI"
   ]
  },
  {
   "cell_type": "code",
   "execution_count": 3,
   "id": "b6f077f9-c4a9-4861-a423-d7fcaab55bb0",
   "metadata": {},
   "outputs": [],
   "source": [
    "fname = '/home/werts/Documents/BIG-experimental-data-recent/lb211006 my first DDM/datafiles/lb211006a_AuLA80_cm19xxxx_OD0_48_exp66us_179_58fps_obj20x_f550.tif'"
   ]
  },
  {
   "cell_type": "code",
   "execution_count": 4,
   "id": "7cbd4504-3335-46bd-9b29-16aef21a5d26",
   "metadata": {},
   "outputs": [],
   "source": [
    "framestrm = FrameStreamerTIFF(fname)"
   ]
  },
  {
   "cell_type": "code",
   "execution_count": 5,
   "id": "511f811b-5fa7-41a8-8ddd-68ebb8cdaed8",
   "metadata": {},
   "outputs": [],
   "source": [
    "videoplay = VideoPlayerUI(framestrm)"
   ]
  },
  {
   "cell_type": "code",
   "execution_count": 6,
   "id": "275d5124-bfc5-4c67-a247-eb2c1efbbfed",
   "metadata": {},
   "outputs": [
    {
     "data": {
      "application/vnd.jupyter.widget-view+json": {
       "model_id": "634ed1fdd1534d6c9df30b73e01868f3",
       "version_major": 2,
       "version_minor": 0
      },
      "text/plain": [
       "HBox(children=(Image(value=b'\\x89PNG\\r\\n\\x1a\\n\\x00\\x00\\x00\\rIHDR\\x00\\x00\\x02\\x00\\x00\\x00\\x02\\x00\\x08\\x00\\x00\\x…"
      ]
     },
     "metadata": {},
     "output_type": "display_data"
    }
   ],
   "source": [
    "videoplay.showUIbox()"
   ]
  },
  {
   "cell_type": "code",
   "execution_count": null,
   "id": "17f58ec4-77da-4f4b-ac8f-b07526b83220",
   "metadata": {},
   "outputs": [],
   "source": []
  }
 ],
 "metadata": {
  "kernelspec": {
   "display_name": "Python 3 (ipykernel)",
   "language": "python",
   "name": "python3"
  },
  "language_info": {
   "codemirror_mode": {
    "name": "ipython",
    "version": 3
   },
   "file_extension": ".py",
   "mimetype": "text/x-python",
   "name": "python",
   "nbconvert_exporter": "python",
   "pygments_lexer": "ipython3",
   "version": "3.9.10"
  }
 },
 "nbformat": 4,
 "nbformat_minor": 5
}
