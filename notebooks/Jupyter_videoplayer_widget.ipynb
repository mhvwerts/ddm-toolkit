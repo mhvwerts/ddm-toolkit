{
 "cells": [
  {
   "cell_type": "code",
   "execution_count": 1,
   "id": "4e8b7b09-f63d-452a-9d0f-9031a09cb169",
   "metadata": {},
   "outputs": [],
   "source": [
    "import sys\n",
    "sys.path.insert(1, '../')"
   ]
  },
  {
   "cell_type": "markdown",
   "id": "9bf3bf09-4d00-4e45-9c76-d5b8ec49dcce",
   "metadata": {},
   "source": [
    "# Interactive videoplayer using ipywidgets"
   ]
  },
  {
   "cell_type": "code",
   "execution_count": 2,
   "id": "2772ebdb-8537-4a71-ab8c-49999a3dc284",
   "metadata": {},
   "outputs": [
    {
     "name": "stdout",
     "output_type": "stream",
     "text": [
      "Running inside a Notebook (Jupyter or otherwise)...\n"
     ]
    }
   ],
   "source": [
    "from ddm_toolkit.framestreamers import FrameStreamerBasic\n",
    "from ddm_toolkit.framestreamers import FrameStreamerTIFF\n",
    "from ddm_toolkit.utils import VideoPlayerUI"
   ]
  },
  {
   "cell_type": "markdown",
   "id": "5067ee71-6bd7-47fa-a764-93fa36569fe0",
   "metadata": {},
   "source": [
    "## Video from basic demo streamer\n",
    "\n",
    "`FrameStreamerBasic` is simultaneously the base class for all framestreamers and a stand-alone demo streamer generating random noise images."
   ]
  },
  {
   "cell_type": "code",
   "execution_count": 3,
   "id": "7cbd4504-3335-46bd-9b29-16aef21a5d26",
   "metadata": {},
   "outputs": [],
   "source": [
    "framestrm = FrameStreamerBasic((512,512))\n",
    "videoplay = VideoPlayerUI(framestrm)"
   ]
  },
  {
   "cell_type": "code",
   "execution_count": 4,
   "id": "40a12954-0001-4883-9618-64b8d4548352",
   "metadata": {},
   "outputs": [
    {
     "data": {
      "application/vnd.jupyter.widget-view+json": {
       "model_id": "59c0ce7eb5f04c0e82a9d527feb9576c",
       "version_major": 2,
       "version_minor": 0
      },
      "text/plain": [
       "HBox(children=(Image(value=b'\\x89PNG\\r\\n\\x1a\\n\\x00\\x00\\x00\\rIHDR\\x00\\x00\\x02\\x00\\x00\\x00\\x02\\x00\\x08\\x00\\x00\\x…"
      ]
     },
     "metadata": {},
     "output_type": "display_data"
    }
   ],
   "source": [
    "videoplay.showUIbox()"
   ]
  },
  {
   "cell_type": "markdown",
   "id": "9ec770d8-87ba-4c39-a2b4-a87093c1eec2",
   "metadata": {},
   "source": [
    "---"
   ]
  },
  {
   "cell_type": "markdown",
   "id": "21e8684f-abb4-4828-8a66-9fda6ed8f73f",
   "metadata": {},
   "source": [
    "## TIFF video file play-back"
   ]
  },
  {
   "cell_type": "code",
   "execution_count": 5,
   "id": "f2be8d1e-e10a-4011-9288-ab985baa7a1b",
   "metadata": {},
   "outputs": [],
   "source": [
    "fname = 'D:/BIG-experimental-data-recent/lb211006 my first DDM/datafiles/lb211006a_AuLA80_cm19xxxx_OD0_48_exp66us_179_58fps_obj20x_f550.tif'"
   ]
  },
  {
   "cell_type": "code",
   "execution_count": 6,
   "id": "068f497b-cbf0-4d59-90e3-8a148e4183e0",
   "metadata": {},
   "outputs": [],
   "source": [
    "framestrm2 = FrameStreamerTIFF(fname)\n",
    "videoplay2 = VideoPlayerUI(framestrm2)"
   ]
  },
  {
   "cell_type": "code",
   "execution_count": 7,
   "id": "124a00b6-8176-4597-b8dd-9a3a88e69cbb",
   "metadata": {},
   "outputs": [
    {
     "data": {
      "application/vnd.jupyter.widget-view+json": {
       "model_id": "9003218852df40c58a5522415ab23653",
       "version_major": 2,
       "version_minor": 0
      },
      "text/plain": [
       "HBox(children=(Image(value=b'\\x89PNG\\r\\n\\x1a\\n\\x00\\x00\\x00\\rIHDR\\x00\\x00\\x02\\x00\\x00\\x00\\x02\\x00\\x08\\x00\\x00\\x…"
      ]
     },
     "metadata": {},
     "output_type": "display_data"
    }
   ],
   "source": [
    "videoplay2.showUIbox()"
   ]
  },
  {
   "cell_type": "code",
   "execution_count": null,
   "id": "16254747-5ff0-42d6-8b22-b475bdbad037",
   "metadata": {},
   "outputs": [],
   "source": []
  }
 ],
 "metadata": {
  "kernelspec": {
   "display_name": "Python 3 (ipykernel)",
   "language": "python",
   "name": "python3"
  },
  "language_info": {
   "codemirror_mode": {
    "name": "ipython",
    "version": 3
   },
   "file_extension": ".py",
   "mimetype": "text/x-python",
   "name": "python",
   "nbconvert_exporter": "python",
   "pygments_lexer": "ipython3",
   "version": "3.12.8"
  }
 },
 "nbformat": 4,
 "nbformat_minor": 5
}
