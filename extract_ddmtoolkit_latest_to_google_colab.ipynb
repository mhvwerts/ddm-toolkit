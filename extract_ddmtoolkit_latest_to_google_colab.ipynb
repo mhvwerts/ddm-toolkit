{
  "nbformat": 4,
  "nbformat_minor": 0,
  "metadata": {
    "colab": {
      "name": "extract_ddmtoolkit_latest_to_google_colab.ipynb",
      "provenance": [],
      "collapsed_sections": []
    },
    "kernelspec": {
      "name": "python3",
      "display_name": "Python 3"
    },
    "language_info": {
      "name": "python"
    }
  },
  "cells": [
    {
      "cell_type": "markdown",
      "metadata": {
        "id": "8P545mQO15Nf"
      },
      "source": [
        "# Extract \"ddmtoolkit_latest.tar.gz\" Git archive inside personal DDMTeam2021 folder on Google Colab + Google Drive\n",
        "\n",
        "This is a utility Notebook for managing a complete Git archive of DDM Toolkit exported from your local Git tree. It enables clean installation of the latest version of all code onto Google Drive for use with Google Colab.\n",
        "\n",
        "This Notebook should be copied into `My Drive > DDMTeam2021` directory on your Google Drive, and executed from there in Google Colab. *A copy of this Notebook will be kept inside the main DDMToolkit Git repository. It should be copied manually to your Google Drive as indicated. In principle, you will only to have to do this once, since this Notebook can be reused for every update to the Toolkit.*"
      ]
    },
    {
      "cell_type": "markdown",
      "metadata": {
        "id": "8wkK2c1L6Nvy"
      },
      "source": [
        "## Explanation\n",
        "\n",
        "From within your local Git repository (on your personal computer), you can create a full DDM Toolkit archive, including all Notebooks that are in the repository. *Before creating your archive, be sure to commit your latest changes, at least locally. It would be best that local and remote Git repositories are all up to date and synchronized. Do git pull and git push.*\n",
        "\n",
        "The command to use (from a local command prompt) is:\n",
        "\n",
        "`./export_git2zip.sh`\n",
        "\n",
        "This will create a file `ddmtoolkit_latest.tar.gz` in your local Git tree. \n",
        "\n",
        "Next, upload this file to your Google Drive. The recommended path is `My Drive > DDMTeam2021`. This will translate into `/content/gdrive/MyDrive/DDMTeam2021/` when mounting GDrive with the present utility Notebook on Colab. If you use this path you can use the present Notebook directly."
      ]
    },
    {
      "cell_type": "markdown",
      "metadata": {
        "id": "Fi6CQhGl9POR"
      },
      "source": [
        "## Usage\n",
        "\n",
        "After uploading the `ddmtoolkit_latest.tar.gz` to your Gdrive at `My Drive > DDMTeam2021`, you can simply run this Notebook using \"Runtime > Restart and run all\".\n",
        "\n",
        "**WARNING** *This Notebook will DELETE any pre-existing `ddmtoolkit_latest` directory without warning.*\n",
        "\n",
        "Check the output to see if everything went well. Afterwards, just close this Notebook, use your Google Drive explorer to open the `My Drive > DDMTeam2021 > ddmtoolkit_latest` and open any Notebook with Colab to work with the DDM Toolkit."
      ]
    },
    {
      "cell_type": "markdown",
      "metadata": {
        "id": "wrvx1VYF6STJ"
      },
      "source": [
        "## Code"
      ]
    },
    {
      "cell_type": "code",
      "metadata": {
        "colab": {
          "base_uri": "https://localhost:8080/"
        },
        "id": "Xc8gwAqBzgoe",
        "outputId": "1c368b65-0c32-481f-81c7-8dcc400b08fe"
      },
      "source": [
        "from google.colab import drive\n",
        "drive.mount(\"/content/gdrive\")"
      ],
      "execution_count": 1,
      "outputs": [
        {
          "output_type": "stream",
          "text": [
            "Drive already mounted at /content/gdrive; to attempt to forcibly remount, call drive.mount(\"/content/gdrive\", force_remount=True).\n"
          ],
          "name": "stdout"
        }
      ]
    },
    {
      "cell_type": "code",
      "metadata": {
        "colab": {
          "base_uri": "https://localhost:8080/"
        },
        "id": "VQELMl41zi70",
        "outputId": "5cdae76a-47db-4eb9-c47c-1d82d718130c"
      },
      "source": [
        "ls"
      ],
      "execution_count": 2,
      "outputs": [
        {
          "output_type": "stream",
          "text": [
            "\u001b[0m\u001b[01;34mgdrive\u001b[0m/  \u001b[01;34msample_data\u001b[0m/\n"
          ],
          "name": "stdout"
        }
      ]
    },
    {
      "cell_type": "code",
      "metadata": {
        "colab": {
          "base_uri": "https://localhost:8080/"
        },
        "id": "2IOO5aAzzvKn",
        "outputId": "425c8d05-bf88-4001-915c-5ab4dfa6742c"
      },
      "source": [
        "cd /content/gdrive/MyDrive/DDMTeam2021"
      ],
      "execution_count": 3,
      "outputs": [
        {
          "output_type": "stream",
          "text": [
            "/content/gdrive/MyDrive/DDMTeam2021\n"
          ],
          "name": "stdout"
        }
      ]
    },
    {
      "cell_type": "code",
      "metadata": {
        "colab": {
          "base_uri": "https://localhost:8080/"
        },
        "id": "e4Dfl-jwzxEp",
        "outputId": "0b085c8f-021d-4461-cf4b-9da5c5cc1909"
      },
      "source": [
        "ls"
      ],
      "execution_count": 4,
      "outputs": [
        {
          "output_type": "stream",
          "text": [
            "\u001b[0m\u001b[01;34mddmtoolkit_latest\u001b[0m/        extract_ddmtoolkit_latest_to_google_colab.ipynb\n",
            "ddmtoolkit_latest.tar.gz\n"
          ],
          "name": "stdout"
        }
      ]
    },
    {
      "cell_type": "code",
      "metadata": {
        "id": "niDq-xgw1JGr"
      },
      "source": [
        "!rm -rf ddmtoolkit_latest/"
      ],
      "execution_count": 5,
      "outputs": []
    },
    {
      "cell_type": "code",
      "metadata": {
        "id": "fJm6D5uEzxgf"
      },
      "source": [
        "!tar -xf ddmtoolkit_latest.tar.gz"
      ],
      "execution_count": 6,
      "outputs": []
    },
    {
      "cell_type": "code",
      "metadata": {
        "colab": {
          "base_uri": "https://localhost:8080/"
        },
        "id": "VFVKf_4m0Sxw",
        "outputId": "89f5ae91-bd98-4ec8-8ae9-fcb18fb551fe"
      },
      "source": [
        "ls"
      ],
      "execution_count": 7,
      "outputs": [
        {
          "output_type": "stream",
          "text": [
            "\u001b[0m\u001b[01;34mddmtoolkit_latest\u001b[0m/        extract_ddmtoolkit_latest_to_google_colab.ipynb\n",
            "ddmtoolkit_latest.tar.gz\n"
          ],
          "name": "stdout"
        }
      ]
    },
    {
      "cell_type": "code",
      "metadata": {
        "colab": {
          "base_uri": "https://localhost:8080/"
        },
        "id": "VpKSOr9e0XYa",
        "outputId": "4579027c-bb62-45b8-a531-1f76492d65ed"
      },
      "source": [
        "cd ddmtoolkit_latest/"
      ],
      "execution_count": 8,
      "outputs": [
        {
          "output_type": "stream",
          "text": [
            "/content/gdrive/My Drive/DDMTeam2021/ddmtoolkit_latest\n"
          ],
          "name": "stdout"
        }
      ]
    },
    {
      "cell_type": "code",
      "metadata": {
        "colab": {
          "base_uri": "https://localhost:8080/"
        },
        "id": "crgWEJWW1GR5",
        "outputId": "28572d3c-4303-48b5-c0b7-34fe162a49d3"
      },
      "source": [
        "ls"
      ],
      "execution_count": 9,
      "outputs": [
        {
          "output_type": "stream",
          "text": [
            "'Animation of evolution of 1D scalar profile in Jupyter Notebook.ipynb'\n",
            " ankit_colab_210527.ipynb\n",
            " conftest.py\n",
            " \u001b[0m\u001b[01;34mddm_toolkit\u001b[0m/\n",
            " ddm_toolkit_notebook_interaction.ipynb\n",
            " ddm_toolkit_notebook_interaction_simul7.ipynb\n",
            " \u001b[01;34mdev-documentation\u001b[0m/\n",
            " \u001b[01;34mexamples\u001b[0m/\n",
            " \u001b[01;32mexport_git2zip.sh\u001b[0m*\n",
            " LICENSE\n",
            " pytest.ini\n",
            " README.rst\n",
            " simul0_params_example.txt\n",
            " \u001b[01;32msimul1_simulate_synthesize.py\u001b[0m*\n",
            " \u001b[01;34mSimul2\u001b[0m/\n",
            " \u001b[01;32msimul2_inspect_video.py\u001b[0m*\n",
            " \u001b[01;32msimul3_calculate_ISF.py\u001b[0m*\n",
            " \u001b[01;32msimul4_inspect_ISF.py\u001b[0m*\n",
            " \u001b[01;34mSimul4_ISF\u001b[0m/\n",
            " \u001b[01;32msimul5_analyze.py\u001b[0m*\n",
            " simul6_multicycle.py\n",
            " simul7_plot_multicycle.py\n",
            " \u001b[01;34mtests\u001b[0m/\n",
            " video0_test_params.txt\n",
            " \u001b[01;32mvideo1_preview.py\u001b[0m*\n",
            " \u001b[01;32mvideo2_check_video.py\u001b[0m*\n",
            " \u001b[01;32mvideo3_ISF_from_video.py\u001b[0m*\n",
            " \u001b[01;32mvideo4_inspect_ISF.py\u001b[0m*\n",
            " \u001b[01;32mvideo5_analyze_brownian_model.py\u001b[0m*\n",
            " videoU1_NPZradialaverage.py\n"
          ],
          "name": "stdout"
        }
      ]
    },
    {
      "cell_type": "code",
      "metadata": {
        "id": "8j_dD3E01GyK"
      },
      "source": [
        ""
      ],
      "execution_count": 9,
      "outputs": []
    }
  ]
}